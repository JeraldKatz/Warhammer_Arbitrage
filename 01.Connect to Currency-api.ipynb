{
 "cells": [
  {
   "cell_type": "code",
   "execution_count": 7,
   "id": "21b37d03",
   "metadata": {},
   "outputs": [],
   "source": [
    "# Import requests and other packages\n",
    "\n",
    "import requests\n",
    "import pandas as pd\n",
    "import json"
   ]
  },
  {
   "cell_type": "code",
   "execution_count": 5,
   "id": "e0eb07d1",
   "metadata": {},
   "outputs": [
    {
     "name": "stdout",
     "output_type": "stream",
     "text": [
      "200\n"
     ]
    }
   ],
   "source": [
    "# Connect to the API and generate code\n",
    "response_API = requests.get('https://cdn.jsdelivr.net/gh/fawazahmed0/currency-api@1/latest/currencies/usd.json')\n",
    "print(response_API.status_code)\n",
    "\n",
    "#200 is good"
   ]
  },
  {
   "cell_type": "code",
   "execution_count": 20,
   "id": "22e507d0",
   "metadata": {},
   "outputs": [],
   "source": [
    "# Parse the JSON and output to pandas\n",
    "\n",
    "parse_json = json.loads(response_API.text)\n",
    "Currency_Table = pd.DataFrame.from_dict(parse_json)"
   ]
  },
  {
   "cell_type": "code",
   "execution_count": 35,
   "id": "faa993f8",
   "metadata": {},
   "outputs": [
    {
     "data": {
      "text/html": [
       "<div>\n",
       "<style scoped>\n",
       "    .dataframe tbody tr th:only-of-type {\n",
       "        vertical-align: middle;\n",
       "    }\n",
       "\n",
       "    .dataframe tbody tr th {\n",
       "        vertical-align: top;\n",
       "    }\n",
       "\n",
       "    .dataframe thead th {\n",
       "        text-align: right;\n",
       "    }\n",
       "</style>\n",
       "<table border=\"1\" class=\"dataframe\">\n",
       "  <thead>\n",
       "    <tr style=\"text-align: right;\">\n",
       "      <th></th>\n",
       "      <th>date</th>\n",
       "      <th>usd</th>\n",
       "    </tr>\n",
       "  </thead>\n",
       "  <tbody>\n",
       "    <tr>\n",
       "      <th>usd</th>\n",
       "      <td>2023-06-03</td>\n",
       "      <td>1.000000</td>\n",
       "    </tr>\n",
       "    <tr>\n",
       "      <th>eur</th>\n",
       "      <td>2023-06-03</td>\n",
       "      <td>0.932351</td>\n",
       "    </tr>\n",
       "    <tr>\n",
       "      <th>gbp</th>\n",
       "      <td>2023-06-03</td>\n",
       "      <td>0.803148</td>\n",
       "    </tr>\n",
       "    <tr>\n",
       "      <th>jpy</th>\n",
       "      <td>2023-06-03</td>\n",
       "      <td>139.945054</td>\n",
       "    </tr>\n",
       "  </tbody>\n",
       "</table>\n",
       "</div>"
      ],
      "text/plain": [
       "           date         usd\n",
       "usd  2023-06-03    1.000000\n",
       "eur  2023-06-03    0.932351\n",
       "gbp  2023-06-03    0.803148\n",
       "jpy  2023-06-03  139.945054"
      ]
     },
     "execution_count": 35,
     "metadata": {},
     "output_type": "execute_result"
    }
   ],
   "source": [
    "# Grab the currencies we are interested in\n",
    "\n",
    "currencies_list = ['usd', 'eur', 'gbp','jpy']\n",
    "\n",
    "Currency_Table.filter(items = currencies_list, axis = 0)"
   ]
  },
  {
   "cell_type": "code",
   "execution_count": 43,
   "id": "88eaf273",
   "metadata": {},
   "outputs": [],
   "source": [
    "def price_2_Dollars(price, currency):\n",
    "    #Find Exchange Rate\n",
    "    EX_Rate = Currency_Table.loc[currency, 'usd']\n",
    "    # Calculate New Price\n",
    "    new_p = price/EX_Rate\n",
    "    return new_p"
   ]
  },
  {
   "cell_type": "code",
   "execution_count": 47,
   "id": "4bee6334",
   "metadata": {},
   "outputs": [
    {
     "name": "stdout",
     "output_type": "stream",
     "text": [
      "[99.60804235333961, 7.145661610877652, 85.80459505057644]\n"
     ]
    }
   ],
   "source": [
    "#Test\n",
    "\n",
    "print([price_2_Dollars(80, 'gbp'),\n",
    "     price_2_Dollars(1000, 'jpy'),\n",
    "     price_2_Dollars(80, 'eur')]\n",
    "     )"
   ]
  }
 ],
 "metadata": {
  "kernelspec": {
   "display_name": "Python 3 (ipykernel)",
   "language": "python",
   "name": "python3"
  },
  "language_info": {
   "codemirror_mode": {
    "name": "ipython",
    "version": 3
   },
   "file_extension": ".py",
   "mimetype": "text/x-python",
   "name": "python",
   "nbconvert_exporter": "python",
   "pygments_lexer": "ipython3",
   "version": "3.10.9"
  }
 },
 "nbformat": 4,
 "nbformat_minor": 5
}
